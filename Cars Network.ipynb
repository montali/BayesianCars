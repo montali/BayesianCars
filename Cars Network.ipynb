{
 "cells": [
  {
   "cell_type": "code",
   "execution_count": 2,
   "metadata": {},
   "outputs": [],
   "source": [
    "import pgmpy"
   ]
  },
  {
   "cell_type": "code",
   "execution_count": 21,
   "metadata": {},
   "outputs": [],
   "source": [
    "import pandas as pd\n",
    "import numpy as np\n",
    "import matplotlib.pyplot as plt"
   ]
  },
  {
   "cell_type": "code",
   "execution_count": 4,
   "metadata": {
    "scrolled": true
   },
   "outputs": [
    {
     "data": {
      "text/plain": "     Buying Maintenance  Doors People LugBoot Safety Acceptability\n0     vhigh       vhigh      2      2   small    low         unacc\n1     vhigh       vhigh      2      2   small    med         unacc\n2     vhigh       vhigh      2      2   small   high         unacc\n3     vhigh       vhigh      2      2     med    low         unacc\n4     vhigh       vhigh      2      2     med    med         unacc\n...     ...         ...    ...    ...     ...    ...           ...\n1723    low         low  5more   more     med    med          good\n1724    low         low  5more   more     med   high         vgood\n1725    low         low  5more   more     big    low         unacc\n1726    low         low  5more   more     big    med          good\n1727    low         low  5more   more     big   high         vgood\n\n[1728 rows x 7 columns]",
      "text/html": "<div>\n<style scoped>\n    .dataframe tbody tr th:only-of-type {\n        vertical-align: middle;\n    }\n\n    .dataframe tbody tr th {\n        vertical-align: top;\n    }\n\n    .dataframe thead th {\n        text-align: right;\n    }\n</style>\n<table border=\"1\" class=\"dataframe\">\n  <thead>\n    <tr style=\"text-align: right;\">\n      <th></th>\n      <th>Buying</th>\n      <th>Maintenance</th>\n      <th>Doors</th>\n      <th>People</th>\n      <th>LugBoot</th>\n      <th>Safety</th>\n      <th>Acceptability</th>\n    </tr>\n  </thead>\n  <tbody>\n    <tr>\n      <th>0</th>\n      <td>vhigh</td>\n      <td>vhigh</td>\n      <td>2</td>\n      <td>2</td>\n      <td>small</td>\n      <td>low</td>\n      <td>unacc</td>\n    </tr>\n    <tr>\n      <th>1</th>\n      <td>vhigh</td>\n      <td>vhigh</td>\n      <td>2</td>\n      <td>2</td>\n      <td>small</td>\n      <td>med</td>\n      <td>unacc</td>\n    </tr>\n    <tr>\n      <th>2</th>\n      <td>vhigh</td>\n      <td>vhigh</td>\n      <td>2</td>\n      <td>2</td>\n      <td>small</td>\n      <td>high</td>\n      <td>unacc</td>\n    </tr>\n    <tr>\n      <th>3</th>\n      <td>vhigh</td>\n      <td>vhigh</td>\n      <td>2</td>\n      <td>2</td>\n      <td>med</td>\n      <td>low</td>\n      <td>unacc</td>\n    </tr>\n    <tr>\n      <th>4</th>\n      <td>vhigh</td>\n      <td>vhigh</td>\n      <td>2</td>\n      <td>2</td>\n      <td>med</td>\n      <td>med</td>\n      <td>unacc</td>\n    </tr>\n    <tr>\n      <th>...</th>\n      <td>...</td>\n      <td>...</td>\n      <td>...</td>\n      <td>...</td>\n      <td>...</td>\n      <td>...</td>\n      <td>...</td>\n    </tr>\n    <tr>\n      <th>1723</th>\n      <td>low</td>\n      <td>low</td>\n      <td>5more</td>\n      <td>more</td>\n      <td>med</td>\n      <td>med</td>\n      <td>good</td>\n    </tr>\n    <tr>\n      <th>1724</th>\n      <td>low</td>\n      <td>low</td>\n      <td>5more</td>\n      <td>more</td>\n      <td>med</td>\n      <td>high</td>\n      <td>vgood</td>\n    </tr>\n    <tr>\n      <th>1725</th>\n      <td>low</td>\n      <td>low</td>\n      <td>5more</td>\n      <td>more</td>\n      <td>big</td>\n      <td>low</td>\n      <td>unacc</td>\n    </tr>\n    <tr>\n      <th>1726</th>\n      <td>low</td>\n      <td>low</td>\n      <td>5more</td>\n      <td>more</td>\n      <td>big</td>\n      <td>med</td>\n      <td>good</td>\n    </tr>\n    <tr>\n      <th>1727</th>\n      <td>low</td>\n      <td>low</td>\n      <td>5more</td>\n      <td>more</td>\n      <td>big</td>\n      <td>high</td>\n      <td>vgood</td>\n    </tr>\n  </tbody>\n</table>\n<p>1728 rows × 7 columns</p>\n</div>"
     },
     "execution_count": 4,
     "metadata": {},
     "output_type": "execute_result"
    }
   ],
   "source": [
    "cars_data = pd.read_csv('data/car.data', names=[\"Buying\", \"Maintenance\", \"Doors\", \"People\", \"LugBoot\", \"Safety\", \"Acceptability\"])\n",
    "cars_data"
   ]
  },
  {
   "cell_type": "code",
   "execution_count": 5,
   "metadata": {
    "scrolled": false
   },
   "outputs": [
    {
     "name": "stderr",
     "output_type": "stream",
     "text": [
      "  0%|          | 9/1000000 [00:00<14:32:39, 19.10it/s]\n"
     ]
    },
    {
     "name": "stdout",
     "output_type": "stream",
     "text": [
      "[('Buying', 'Maintenance'), ('Safety', 'People'), ('Safety', 'LugBoot'), ('Acceptability', 'Safety'), ('Acceptability', 'People'), ('Acceptability', 'Buying'), ('Acceptability', 'Maintenance'), ('Acceptability', 'LugBoot')]\n"
     ]
    }
   ],
   "source": [
    "from pgmpy.estimators import HillClimbSearch\n",
    "from pgmpy.estimators import BicScore\n",
    "\n",
    "hc = HillClimbSearch(cars_data, scoring_method=BicScore(cars_data))\n",
    "best_model = hc.estimate()\n",
    "print(best_model.edges())"
   ]
  },
  {
   "cell_type": "code",
   "execution_count": 6,
   "metadata": {
    "scrolled": false
   },
   "outputs": [
    {
     "name": "stdout",
     "output_type": "stream",
     "text": [
      "+----------------------+-----------+\n",
      "| Acceptability(acc)   | 0.222222  |\n",
      "+----------------------+-----------+\n",
      "| Acceptability(good)  | 0.0399306 |\n",
      "+----------------------+-----------+\n",
      "| Acceptability(unacc) | 0.700231  |\n",
      "+----------------------+-----------+\n",
      "| Acceptability(vgood) | 0.0376157 |\n",
      "+----------------------+-----------+\n",
      "+---------------+---------------------+---------------------+----------------------+----------------------+\n",
      "| Acceptability | Acceptability(acc)  | Acceptability(good) | Acceptability(unacc) | Acceptability(vgood) |\n",
      "+---------------+---------------------+---------------------+----------------------+----------------------+\n",
      "| Buying(high)  | 0.28125             | 0.0                 | 0.26776859504132233  | 0.0                  |\n",
      "+---------------+---------------------+---------------------+----------------------+----------------------+\n",
      "| Buying(low)   | 0.23177083333333334 | 0.6666666666666666  | 0.21322314049586777  | 0.6                  |\n",
      "+---------------+---------------------+---------------------+----------------------+----------------------+\n",
      "| Buying(med)   | 0.2994791666666667  | 0.3333333333333333  | 0.22148760330578512  | 0.4                  |\n",
      "+---------------+---------------------+---------------------+----------------------+----------------------+\n",
      "| Buying(vhigh) | 0.1875              | 0.0                 | 0.2975206611570248   | 0.0                  |\n",
      "+---------------+---------------------+---------------------+----------------------+----------------------+\n",
      "+----------------+--------------------+--------------------+---------------------+---------------------+---------------------+---------------------+----------------------+----------------------+----------------------+----------------------+----------------------+----------------------+\n",
      "| Acceptability  | Acceptability(acc) | Acceptability(acc) | Acceptability(acc)  | Acceptability(good) | Acceptability(good) | Acceptability(good) | Acceptability(unacc) | Acceptability(unacc) | Acceptability(unacc) | Acceptability(vgood) | Acceptability(vgood) | Acceptability(vgood) |\n",
      "+----------------+--------------------+--------------------+---------------------+---------------------+---------------------+---------------------+----------------------+----------------------+----------------------+----------------------+----------------------+----------------------+\n",
      "| Safety         | Safety(high)       | Safety(low)        | Safety(med)         | Safety(high)        | Safety(low)         | Safety(med)         | Safety(high)         | Safety(low)          | Safety(med)          | Safety(high)         | Safety(low)          | Safety(med)          |\n",
      "+----------------+--------------------+--------------------+---------------------+---------------------+---------------------+---------------------+----------------------+----------------------+----------------------+----------------------+----------------------+----------------------+\n",
      "| LugBoot(big)   | 0.3137254901960784 | 0.3333333333333333 | 0.4444444444444444  | 0.0                 | 0.3333333333333333  | 0.6153846153846154  | 0.3176895306859206   | 0.3333333333333333   | 0.24649859943977592  | 0.6153846153846154   | 0.3333333333333333   | 0.3333333333333333   |\n",
      "+----------------+--------------------+--------------------+---------------------+---------------------+---------------------+---------------------+----------------------+----------------------+----------------------+----------------------+----------------------+----------------------+\n",
      "| LugBoot(med)   | 0.3431372549019608 | 0.3333333333333333 | 0.3611111111111111  | 0.3                 | 0.3333333333333333  | 0.38461538461538464 | 0.3176895306859206   | 0.3333333333333333   | 0.3137254901960784   | 0.38461538461538464  | 0.3333333333333333   | 0.3333333333333333   |\n",
      "+----------------+--------------------+--------------------+---------------------+---------------------+---------------------+---------------------+----------------------+----------------------+----------------------+----------------------+----------------------+----------------------+\n",
      "| LugBoot(small) | 0.3431372549019608 | 0.3333333333333333 | 0.19444444444444445 | 0.7                 | 0.3333333333333333  | 0.0                 | 0.36462093862815886  | 0.3333333333333333   | 0.43977591036414565  | 0.0                  | 0.3333333333333333   | 0.3333333333333333   |\n",
      "+----------------+--------------------+--------------------+---------------------+---------------------+---------------------+---------------------+----------------------+----------------------+----------------------+----------------------+----------------------+----------------------+\n",
      "+--------------------+--------------------+---------------------+---------------------+--------------------+---------------------+---------------------+---------------------+---------------------+----------------------+----------------------+----------------------+----------------------+----------------------+----------------------+----------------------+----------------------+\n",
      "| Acceptability      | Acceptability(acc) | Acceptability(acc)  | Acceptability(acc)  | Acceptability(acc) | Acceptability(good) | Acceptability(good) | Acceptability(good) | Acceptability(good) | Acceptability(unacc) | Acceptability(unacc) | Acceptability(unacc) | Acceptability(unacc) | Acceptability(vgood) | Acceptability(vgood) | Acceptability(vgood) | Acceptability(vgood) |\n",
      "+--------------------+--------------------+---------------------+---------------------+--------------------+---------------------+---------------------+---------------------+---------------------+----------------------+----------------------+----------------------+----------------------+----------------------+----------------------+----------------------+----------------------+\n",
      "| Buying             | Buying(high)       | Buying(low)         | Buying(med)         | Buying(vhigh)      | Buying(high)        | Buying(low)         | Buying(med)         | Buying(vhigh)       | Buying(high)         | Buying(low)          | Buying(med)          | Buying(vhigh)        | Buying(high)         | Buying(low)          | Buying(med)          | Buying(vhigh)        |\n",
      "+--------------------+--------------------+---------------------+---------------------+--------------------+---------------------+---------------------+---------------------+---------------------+----------------------+----------------------+----------------------+----------------------+----------------------+----------------------+----------------------+----------------------+\n",
      "| Maintenance(high)  | 0.3333333333333333 | 0.3707865168539326  | 0.3130434782608696  | 0.0                | 0.25                | 0.0                 | 0.0                 | 0.25                | 0.2222222222222222   | 0.24031007751937986  | 0.26865671641791045  | 0.3                  | 0.25                 | 0.3333333333333333   | 0.0                  | 0.25                 |\n",
      "+--------------------+--------------------+---------------------+---------------------+--------------------+---------------------+---------------------+---------------------+---------------------+----------------------+----------------------+----------------------+----------------------+----------------------+----------------------+----------------------+----------------------+\n",
      "| Maintenance(low)   | 0.3333333333333333 | 0.11235955056179775 | 0.08695652173913043 | 0.5                | 0.25                | 0.5                 | 1.0                 | 0.25                | 0.2222222222222222   | 0.24031007751937986  | 0.23134328358208955  | 0.2                  | 0.25                 | 0.3333333333333333   | 0.5                  | 0.25                 |\n",
      "+--------------------+--------------------+---------------------+---------------------+--------------------+---------------------+---------------------+---------------------+---------------------+----------------------+----------------------+----------------------+----------------------+----------------------+----------------------+----------------------+----------------------+\n",
      "| Maintenance(med)   | 0.3333333333333333 | 0.11235955056179775 | 0.28695652173913044 | 0.5                | 0.25                | 0.5                 | 0.0                 | 0.25                | 0.2222222222222222   | 0.24031007751937986  | 0.23134328358208955  | 0.2                  | 0.25                 | 0.3333333333333333   | 0.5                  | 0.25                 |\n",
      "+--------------------+--------------------+---------------------+---------------------+--------------------+---------------------+---------------------+---------------------+---------------------+----------------------+----------------------+----------------------+----------------------+----------------------+----------------------+----------------------+----------------------+\n",
      "| Maintenance(vhigh) | 0.0                | 0.4044943820224719  | 0.3130434782608696  | 0.0                | 0.25                | 0.0                 | 0.0                 | 0.25                | 0.3333333333333333   | 0.27906976744186046  | 0.26865671641791045  | 0.3                  | 0.25                 | 0.0                  | 0.0                  | 0.25                 |\n",
      "+--------------------+--------------------+---------------------+---------------------+--------------------+---------------------+---------------------+---------------------+---------------------+----------------------+----------------------+----------------------+----------------------+----------------------+----------------------+----------------------+----------------------+\n",
      "+---------------+---------------------+--------------------+--------------------+---------------------+---------------------+---------------------+----------------------+----------------------+----------------------+----------------------+----------------------+----------------------+\n",
      "| Acceptability | Acceptability(acc)  | Acceptability(acc) | Acceptability(acc) | Acceptability(good) | Acceptability(good) | Acceptability(good) | Acceptability(unacc) | Acceptability(unacc) | Acceptability(unacc) | Acceptability(vgood) | Acceptability(vgood) | Acceptability(vgood) |\n",
      "+---------------+---------------------+--------------------+--------------------+---------------------+---------------------+---------------------+----------------------+----------------------+----------------------+----------------------+----------------------+----------------------+\n",
      "| Safety        | Safety(high)        | Safety(low)        | Safety(med)        | Safety(high)        | Safety(low)         | Safety(med)         | Safety(high)         | Safety(low)          | Safety(med)          | Safety(high)         | Safety(low)          | Safety(med)          |\n",
      "+---------------+---------------------+--------------------+--------------------+---------------------+---------------------+---------------------+----------------------+----------------------+----------------------+----------------------+----------------------+----------------------+\n",
      "| People(2)     | 0.0                 | 0.3333333333333333 | 0.0                | 0.0                 | 0.3333333333333333  | 0.0                 | 0.6931407942238267   | 0.3333333333333333   | 0.5378151260504201   | 0.0                  | 0.3333333333333333   | 0.3333333333333333   |\n",
      "+---------------+---------------------+--------------------+--------------------+---------------------+---------------------+---------------------+----------------------+----------------------+----------------------+----------------------+----------------------+----------------------+\n",
      "| People(4)     | 0.5294117647058824  | 0.3333333333333333 | 0.5                | 0.6                 | 0.3333333333333333  | 0.46153846153846156 | 0.1299638989169675   | 0.3333333333333333   | 0.23529411764705882  | 0.46153846153846156  | 0.3333333333333333   | 0.3333333333333333   |\n",
      "+---------------+---------------------+--------------------+--------------------+---------------------+---------------------+---------------------+----------------------+----------------------+----------------------+----------------------+----------------------+----------------------+\n",
      "| People(more)  | 0.47058823529411764 | 0.3333333333333333 | 0.5                | 0.4                 | 0.3333333333333333  | 0.5384615384615384  | 0.17689530685920576  | 0.3333333333333333   | 0.226890756302521    | 0.5384615384615384   | 0.3333333333333333   | 0.3333333333333333   |\n",
      "+---------------+---------------------+--------------------+--------------------+---------------------+---------------------+---------------------+----------------------+----------------------+----------------------+----------------------+----------------------+----------------------+\n",
      "+---------------+--------------------+---------------------+----------------------+----------------------+\n",
      "| Acceptability | Acceptability(acc) | Acceptability(good) | Acceptability(unacc) | Acceptability(vgood) |\n",
      "+---------------+--------------------+---------------------+----------------------+----------------------+\n",
      "| Safety(high)  | 0.53125            | 0.43478260869565216 | 0.22892561983471074  | 1.0                  |\n",
      "+---------------+--------------------+---------------------+----------------------+----------------------+\n",
      "| Safety(low)   | 0.0                | 0.0                 | 0.47603305785123967  | 0.0                  |\n",
      "+---------------+--------------------+---------------------+----------------------+----------------------+\n",
      "| Safety(med)   | 0.46875            | 0.5652173913043478  | 0.2950413223140496   | 0.0                  |\n",
      "+---------------+--------------------+---------------------+----------------------+----------------------+\n"
     ]
    }
   ],
   "source": [
    "from pgmpy.models import BayesianModel\n",
    "from pgmpy.estimators import MaximumLikelihoodEstimator\n",
    "\n",
    "bayesian_model = BayesianModel(best_model.edges())\n",
    "bayesian_model.fit(cars_data, estimator=MaximumLikelihoodEstimator)\n",
    "for cpd in bayesian_model.get_cpds():\n",
    "    print(cpd)"
   ]
  },
  {
   "cell_type": "code",
   "execution_count": 7,
   "metadata": {
    "scrolled": true
   },
   "outputs": [],
   "source": [
    "from pgmpy.inference import VariableElimination\n",
    "\n",
    "exact_inference = VariableElimination(bayesian_model)"
   ]
  },
  {
   "cell_type": "markdown",
   "metadata": {},
   "source": [
    "Now, it would be interesting to answer some questions:\n",
    "* Is maintenance harder for 2-seaters than for family cars?"
   ]
  },
  {
   "cell_type": "code",
   "execution_count": 8,
   "metadata": {},
   "outputs": [
    {
     "name": "stderr",
     "output_type": "stream",
     "text": [
      "Finding Elimination Order: :   0%|          | 0/4 [00:00<?, ?it/s]\n",
      "  0%|          | 0/4 [00:00<?, ?it/s]\u001b[A\n",
      "Eliminating: LugBoot:   0%|          | 0/4 [00:00<?, ?it/s]\u001b[A\n",
      "Eliminating: Safety:   0%|          | 0/4 [00:00<?, ?it/s] \u001b[A\n",
      "Finding Elimination Order: : 100%|██████████| 4/4 [00:00<00:00, 500.93it/s]\n",
      "\n",
      "Eliminating: Acceptability: 100%|██████████| 4/4 [00:00<00:00, 505.43it/s]\n",
      "Finding Elimination Order: :   0%|          | 0/4 [00:00<?, ?it/s]\n",
      "  0%|          | 0/4 [00:00<?, ?it/s]\u001b[A\n",
      "Eliminating: LugBoot:   0%|          | 0/4 [00:00<?, ?it/s]\u001b[A\n",
      "Eliminating: Safety:   0%|          | 0/4 [00:00<?, ?it/s] \u001b[A\n",
      "Eliminating: Buying:   0%|          | 0/4 [00:00<?, ?it/s]\u001b[A\n",
      "Eliminating: Acceptability: 100%|██████████| 4/4 [00:00<00:00, 482.56it/s]\n"
     ]
    },
    {
     "name": "stdout",
     "output_type": "stream",
     "text": [
      "+--------------------+--------------------+\n",
      "| Maintenance        |   phi(Maintenance) |\n",
      "+====================+====================+\n",
      "| Maintenance(high)  |             0.2595 |\n",
      "+--------------------+--------------------+\n",
      "| Maintenance(low)   |             0.2215 |\n",
      "+--------------------+--------------------+\n",
      "| Maintenance(med)   |             0.2215 |\n",
      "+--------------------+--------------------+\n",
      "| Maintenance(vhigh) |             0.2975 |\n",
      "+--------------------+--------------------+\n",
      "+--------------------+--------------------+\n",
      "| Maintenance        |   phi(Maintenance) |\n",
      "+====================+====================+\n",
      "| Maintenance(high)  |             0.2450 |\n",
      "+--------------------+--------------------+\n",
      "| Maintenance(low)   |             0.2648 |\n",
      "+--------------------+--------------------+\n",
      "| Maintenance(med)   |             0.2646 |\n",
      "+--------------------+--------------------+\n",
      "| Maintenance(vhigh) |             0.2256 |\n",
      "+--------------------+--------------------+\n"
     ]
    }
   ],
   "source": [
    "print(exact_inference.query([\"Maintenance\"],{'People':\"2\"}))\n",
    "print(exact_inference.query([\"Maintenance\"],{'People':\"4\"}))\n",
    "\n"
   ]
  },
  {
   "cell_type": "markdown",
   "metadata": {},
   "source": [
    "It looks like it is, indeed. Then,\n",
    "* Are cars with high maintenance safer?"
   ]
  },
  {
   "cell_type": "code",
   "execution_count": 9,
   "metadata": {
    "scrolled": false
   },
   "outputs": [
    {
     "name": "stderr",
     "output_type": "stream",
     "text": [
      "\n",
      "  0%|          | 0/4 [00:00<?, ?it/s]\u001b[A\n",
      "Finding Elimination Order: :   0%|          | 0/4 [00:00<?, ?it/s]\u001b[A\n",
      "\n",
      "  0%|          | 0/4 [00:00<?, ?it/s]\u001b[A\u001b[A\n",
      "\n",
      "Eliminating: LugBoot:   0%|          | 0/4 [00:00<?, ?it/s]\u001b[A\u001b[A\n",
      "\n",
      "Eliminating: People:   0%|          | 0/4 [00:00<?, ?it/s] \u001b[A\u001b[A\n",
      "\n",
      "Eliminating: Buying:   0%|          | 0/4 [00:00<?, ?it/s]\u001b[A\u001b[A\n",
      "\n",
      "Eliminating: Acceptability: 100%|██████████| 4/4 [00:00<00:00, 425.22it/s]\n"
     ]
    },
    {
     "name": "stdout",
     "output_type": "stream",
     "text": [
      "+--------------+---------------+\n",
      "| Safety       |   phi(Safety) |\n",
      "+==============+===============+\n",
      "| Safety(high) |        0.2793 |\n",
      "+--------------+---------------+\n",
      "| Safety(low)  |        0.3967 |\n",
      "+--------------+---------------+\n",
      "| Safety(med)  |        0.3240 |\n",
      "+--------------+---------------+\n"
     ]
    }
   ],
   "source": [
    "print(exact_inference.query([\"Safety\"],{'Maintenance':\"vhigh\"}))"
   ]
  },
  {
   "cell_type": "markdown",
   "metadata": {},
   "source": [
    "Looks like they're not. \n",
    "* Is the lugboot involved in safety?"
   ]
  },
  {
   "cell_type": "code",
   "execution_count": 10,
   "metadata": {},
   "outputs": [
    {
     "name": "stderr",
     "output_type": "stream",
     "text": [
      "\n",
      "\n",
      "  0%|          | 0/4 [00:00<?, ?it/s]\u001b[A\u001b[A\n",
      "\n",
      "Finding Elimination Order: :   0%|          | 0/4 [00:00<?, ?it/s]\u001b[A\u001b[A\n",
      "\n",
      "\n",
      "  0%|          | 0/4 [00:00<?, ?it/s]\u001b[A\u001b[A\u001b[A\n",
      "\n",
      "\n",
      "Eliminating: Maintenance:   0%|          | 0/4 [00:00<?, ?it/s]\u001b[A\u001b[A\u001b[A\n",
      "\n",
      "\n",
      "Eliminating: People:   0%|          | 0/4 [00:00<?, ?it/s]     \u001b[A\u001b[A\u001b[A\n",
      "\n",
      "\n",
      "Eliminating: Buying:   0%|          | 0/4 [00:00<?, ?it/s]\u001b[A\u001b[A\u001b[A\n",
      "\n",
      "\n",
      "Eliminating: Acceptability: 100%|██████████| 4/4 [00:00<00:00, 514.80it/s]\n"
     ]
    },
    {
     "name": "stdout",
     "output_type": "stream",
     "text": [
      "+----------------+----------------+\n",
      "| LugBoot        |   phi(LugBoot) |\n",
      "+================+================+\n",
      "| LugBoot(big)   |         0.3333 |\n",
      "+----------------+----------------+\n",
      "| LugBoot(med)   |         0.3333 |\n",
      "+----------------+----------------+\n",
      "| LugBoot(small) |         0.3333 |\n",
      "+----------------+----------------+\n"
     ]
    }
   ],
   "source": [
    "print(exact_inference.query([\"LugBoot\"],{'Safety':\"low\"}))"
   ]
  },
  {
   "cell_type": "markdown",
   "metadata": {},
   "source": [
    "## Approximate inference\n",
    "We'd now like to try and infer probabilities from samples, by extracting $n$ samples from the distribution and calculating the probability.\n",
    "According to **Hoeffding’s inequality**, we know that\n",
    "$$\n",
    "P(|s-p|>\\epsilon) \\le 2 e^{-2n\\epsilon^2}\n",
    "$$\n",
    "which we can use to get a desired number of samples to extract.\n",
    "We'll try two different techniques, **Rejection Sampling** and **Likelihood weighting**. \n",
    "The first estimates the probability by counting the samples that are consistent with the evidence, and it is a process similar to what we do in the real world.\n",
    "The latter, instead, only samples nonevidence variables, then weights them by the likelihood they accord the evidence."
   ]
  },
  {
   "cell_type": "code",
   "execution_count": 10,
   "outputs": [],
   "source": [],
   "metadata": {
    "collapsed": false,
    "pycharm": {
     "name": "#%%\n"
    }
   }
  },
  {
   "cell_type": "code",
   "execution_count": 38,
   "metadata": {
    "pycharm": {
     "name": "#%%\n"
    }
   },
   "outputs": [
    {
     "name": "stderr",
     "output_type": "stream",
     "text": [
      "/opt/anaconda3/envs/bncars/lib/python3.8/site-packages/pgmpy/factors/discrete/DiscreteFactor.py:518: UserWarning: Found unknown state name. Trying to switch to using all state names as state numbers\n",
      "  warn(\n",
      "Generating for node: People: 100%|██████████| 6/6 [00:00<00:00, 341.10it/s]\n",
      "Generating for node: People: 100%|██████████| 6/6 [00:00<00:00, 146.26it/s]\n",
      "Generating for node: People: 100%|██████████| 6/6 [00:00<00:00, 52.54it/s]\n",
      "Generating for node: People: 100%|██████████| 6/6 [00:00<00:00,  7.09it/s]     \n",
      "Generating for node: People: 100%|██████████| 6/6 [00:00<00:00, 31.41it/s] \n",
      "Generating for node: People: 100%|██████████| 6/6 [00:01<00:00,  3.16it/s]     \n",
      "Generating for node: People: 100%|██████████| 6/6 [00:00<00:00, 21.44it/s]     \n",
      "Generating for node: People: 100%|██████████| 6/6 [00:02<00:00,  2.11it/s]     \n",
      "Generating for node: People: 100%|██████████| 6/6 [00:00<00:00, 16.28it/s]     \n",
      "Generating for node: People: 100%|██████████| 6/6 [00:03<00:00,  1.60it/s]     \n",
      "Generating for node: People: 100%|██████████| 6/6 [00:00<00:00, 13.09it/s]     \n",
      "Generating for node: People: 100%|██████████| 6/6 [00:04<00:00,  1.32it/s]     \n",
      "Generating for node: People: 100%|██████████| 6/6 [00:00<00:00, 10.83it/s]     \n",
      "Generating for node: People: 100%|██████████| 6/6 [00:05<00:00,  1.07it/s]     \n",
      "Generating for node: People: 100%|██████████| 6/6 [00:00<00:00,  9.22it/s]     \n",
      "Generating for node: People: 100%|██████████| 6/6 [00:06<00:00,  1.08s/it]     \n",
      "Generating for node: People: 100%|██████████| 6/6 [00:00<00:00,  8.15it/s]     \n",
      "Generating for node: People: 100%|██████████| 6/6 [00:07<00:00,  1.28s/it]     \n",
      "Generating for node: People: 100%|██████████| 6/6 [00:00<00:00,  7.15it/s]     \n",
      "Generating for node: People: 100%|██████████| 6/6 [00:08<00:00,  1.45s/it]     \n",
      "Generating for node: People: 100%|██████████| 6/6 [00:00<00:00,  6.47it/s]     \n",
      "Generating for node: People: 100%|██████████| 6/6 [00:09<00:00,  1.60s/it]     \n",
      "Generating for node: People: 100%|██████████| 6/6 [00:01<00:00,  5.89it/s]     \n",
      "Generating for node: People: 100%|██████████| 6/6 [00:10<00:00,  1.74s/it]     \n",
      "Generating for node: People: 100%|██████████| 6/6 [00:01<00:00,  5.44it/s]     \n",
      "Generating for node: People: 100%|██████████| 6/6 [00:11<00:00,  1.91s/it]     \n",
      "Generating for node: People: 100%|██████████| 6/6 [00:01<00:00,  4.80it/s]     \n",
      "Generating for node: People: 100%|██████████| 6/6 [00:12<00:00,  2.10s/it]     \n",
      "Generating for node: People: 100%|██████████| 6/6 [00:01<00:00,  4.56it/s]     \n",
      "Generating for node: People: 100%|██████████| 6/6 [00:13<00:00,  2.32s/it]     \n",
      "Generating for node: People: 100%|██████████| 6/6 [00:01<00:00,  3.92it/s]     \n",
      "Generating for node: People: 100%|██████████| 6/6 [00:16<00:00,  2.78s/it]     \n",
      "Generating for node: People: 100%|██████████| 6/6 [00:01<00:00,  3.76it/s]     \n",
      "Generating for node: People: 100%|██████████| 6/6 [00:16<00:00,  2.78s/it]     \n",
      "Generating for node: People: 100%|██████████| 6/6 [00:01<00:00,  3.41it/s]     \n",
      "Generating for node: People: 100%|██████████| 6/6 [00:17<00:00,  2.92s/it]     \n",
      "Generating for node: People: 100%|██████████| 6/6 [00:01<00:00,  3.04it/s]     \n",
      "Generating for node: People: 100%|██████████| 6/6 [00:19<00:00,  3.26s/it]     \n",
      "Generating for node: People: 100%|██████████| 6/6 [00:02<00:00,  2.92it/s]     \n",
      "Generating for node: People: 100%|██████████| 6/6 [00:19<00:00,  3.32s/it]     \n"
     ]
    },
    {
     "name": "stdout",
     "output_type": "stream",
     "text": [
      "🎲 Experiment of size 100 achieved mean error -8.326672684688674e-17 with LWS and -3.122502256758253e-17 with RS 🎲\n",
      "🎲 Experiment of size 5095 achieved mean error -1.609823385706477e-15 with LWS and -3.469446951953614e-17 with RS 🎲\n",
      "🎲 Experiment of size 10090 achieved mean error -3.2057689836051395e-15 with LWS and -2.7755575615628914e-17 with RS 🎲\n",
      "🎲 Experiment of size 15085 achieved mean error -4.253541963095131e-15 with LWS and -2.7755575615628914e-17 with RS 🎲\n",
      "🎲 Experiment of size 20080 achieved mean error -8.6389229103645e-15 with LWS and -2.0816681711721685e-17 with RS 🎲\n",
      "🎲 Experiment of size 25075 achieved mean error -1.1594891713428979e-14 with LWS and -1.3877787807814457e-17 with RS 🎲\n",
      "🎲 Experiment of size 30070 achieved mean error -1.1844691893969639e-14 with LWS and -2.0816681711721685e-17 with RS 🎲\n",
      "🎲 Experiment of size 35065 achieved mean error -9.145462165349727e-15 with LWS and -3.469446951953614e-17 with RS 🎲\n",
      "🎲 Experiment of size 40060 achieved mean error -5.447031714567174e-15 with LWS and -2.0816681711721685e-17 with RS 🎲\n",
      "🎲 Experiment of size 45055 achieved mean error -1.7555401576885288e-15 with LWS and -2.7755575615628914e-17 with RS 🎲\n",
      "🎲 Experiment of size 50050 achieved mean error 8.673617379884035e-16 with LWS and -2.7755575615628914e-17 with RS 🎲\n",
      "🎲 Experiment of size 55045 achieved mean error 4.586608870482678e-15 with LWS and -2.7755575615628914e-17 with RS 🎲\n",
      "🎲 Experiment of size 60040 achieved mean error 8.749945212827015e-15 with LWS and -2.7755575615628914e-17 with RS 🎲\n",
      "🎲 Experiment of size 65035 achieved mean error 1.285430095698814e-14 with LWS and -2.7755575615628914e-17 with RS 🎲\n",
      "🎲 Experiment of size 70030 achieved mean error 1.7208456881689926e-14 with LWS and -1.3877787807814457e-17 with RS 🎲\n",
      "🎲 Experiment of size 75025 achieved mean error 2.0192181260370035e-14 with LWS and -2.0816681711721685e-17 with RS 🎲\n",
      "🎲 Experiment of size 80020 achieved mean error 2.14064876935538e-14 with LWS and -2.0816681711721685e-17 with RS 🎲\n",
      "🎲 Experiment of size 85015 achieved mean error 2.6135343889066576e-14 with LWS and -3.469446951953614e-17 with RS 🎲\n",
      "🎲 Experiment of size 90010 achieved mean error 2.751271432899216e-14 with LWS and -2.0816681711721685e-17 with RS 🎲\n",
      "🎲 Experiment of size 95005 achieved mean error 2.967071033310731e-14 with LWS and -2.0816681711721685e-17 with RS 🎲\n"
     ]
    }
   ],
   "source": [
    "class SampleTester():\n",
    "    def __init__(self, bayesian_model):\n",
    "        self.bayesian_model = bayesian_model\n",
    "        self.sampler = BayesianModelSampling(bayesian_model)\n",
    "        self.exact_inference = VariableElimination(bayesian_model)\n",
    "    def test_sample_methods(self, evidence, query, sample_size_min = 100, sample_size_max=10**5, num_of_experiments=20):\n",
    "        test_range = range(sample_size_min, sample_size_max, int((sample_size_max-sample_size_min)/num_of_experiments))\n",
    "        errors_lws = []\n",
    "        errors_rs = []\n",
    "        exact_result = self.exact_inference.query([query], dict(evidence), show_progress=False).values\n",
    "        for size in test_range:\n",
    "            lws_probs = self.process_lws(size, evidence, query)\n",
    "            rs_probs = self.process_rs(size, evidence, query)\n",
    "            lws_error = self.absolute_error(lws_probs, exact_result)\n",
    "            rs_error = self.absolute_error(rs_probs, exact_result)\n",
    "            print(f\"🎲 Experiment of size {size} achieved mean error {np.average(lws_error)} with LWS and {np.average(rs_error)} with RS 🎲\")\n",
    "            errors_lws.append(lws_error)\n",
    "            errors_rs.append(rs_error)\n",
    "        return list(test_range), errors_lws, errors_rs\n",
    "    def process_lws(self, size, evidence, query):\n",
    "        likelihood_sample = self.sampler.likelihood_weighted_sample(evidence=evidence, size=size, return_type='recarray') # The show_progress is part of commit #bda1004 and hasn't been published on PyPi yet\n",
    "        sample_probs = self.return_weighted_probs(likelihood_sample[query],likelihood_sample['_weight'])\n",
    "        return sample_probs\n",
    "    def process_rs(self, size, evidence, query):\n",
    "        rejection_sample = self.sampler.rejection_sample(evidence=evidence, size=size, return_type='recarray', show_progress=False)[query]\n",
    "        sample_probs = self.return_probs(rejection_sample)\n",
    "        return sample_probs\n",
    "    def absolute_error(self, sample_probs, exact_probs):\n",
    "        absolute_error = np.fromiter(sample_probs.values(), dtype=float) - np.array(exact_probs)\n",
    "        return absolute_error\n",
    "    def return_probs(self, samples):\n",
    "        unique, counts = np.unique(samples, return_counts=True) # Get the unique values and their counts\n",
    "        counts = (counts/len(samples))# Divide the counts by the total number, getting a probability from 0 to 1\n",
    "        return dict(zip(unique, counts)) # Zip the value and its probability in a dict\n",
    "    def return_weighted_probs(self, samples, weights):\n",
    "        unique = np.unique(samples)\n",
    "        counts = np.zeros(len(np.unique(samples))) # We fill a zero array for the weights sum, the  we'll divide it by the sum of weights\n",
    "        iterator = np.nditer(samples, flags=['f_index'])\n",
    "        for value in iterator:\n",
    "            counts[value] += weights[iterator.index]\n",
    "        counts = (counts/np.sum(weights))\n",
    "        return dict(zip(unique, counts)) # Zip the value and its probability in a dict\n",
    "\n",
    "\n",
    "from pgmpy.sampling import BayesianModelSampling\n",
    "from pgmpy.factors.discrete import State\n",
    "\n",
    "\n",
    "evidence = [State('Safety', 'high'),State('Maintenance', 'low')]\n",
    "\n",
    "st = SampleTester(bayesian_model)\n",
    "i, errors_lws, errors_rs = st.test_sample_methods(evidence, \"Acceptability\")"
   ]
  },
  {
   "cell_type": "code",
   "execution_count": 39,
   "outputs": [
    {
     "data": {
      "text/plain": "<Figure size 432x288 with 2 Axes>",
      "image/png": "[encoded data removed]"
     },
     "metadata": {
      "needs_background": "light"
     },
     "output_type": "display_data"
    }
   ],
   "source": [
    "def plot_graphs(sizes, errors_lws, errors_rs):\n",
    "    fig, axs = plt.subplots(2, sharex=True)\n",
    "    line = axs[0].semilogx(i, errors_lws, lw=2)\n",
    "    line2 = axs[1].semilogx(i, errors_rs, lw=2)\n",
    "    axs[0].title.set_text(\"Error for Rejection sampling\")\n",
    "    axs[1].title.set_text(\"Error for Likelihood Weighting\")\n",
    "    axs[1].set_xlabel(\"Size of sample\")\n",
    "    for ax in axs:\n",
    "        ax.set_ylabel(\"Absolute error\")\n",
    "    plt.show()\n",
    "plot_graphs(i, errors_lws, errors_rs)\n",
    "\n"
   ],
   "metadata": {
    "collapsed": false,
    "pycharm": {
     "name": "#%%\n"
    }
   }
  }
 ],
 "metadata": {
  "kernelspec": {
   "display_name": "bncars",
   "language": "python",
   "name": "bncars"
  },
  "language_info": {
   "codemirror_mode": {
    "name": "ipython",
    "version": 3
   },
   "file_extension": ".py",
   "mimetype": "text/x-python",
   "name": "python",
   "nbconvert_exporter": "python",
   "pygments_lexer": "ipython3",
   "version": "3.8.8"
  }
 },
 "nbformat": 4,
 "nbformat_minor": 4
}