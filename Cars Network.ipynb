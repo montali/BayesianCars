{
 "cells": [
  {
   "cell_type": "markdown",
   "metadata": {},
   "source": [
    "[This](https://github.com/pgmpy/pgmpy_notebook/blob/master/notebooks/9.%20Learning%20Bayesian%20Networks%20from%20Data.ipynb) shows how to infer a bn from data"
   ]
  },
  {
   "cell_type": "code",
   "execution_count": 3,
   "metadata": {},
   "outputs": [],
   "source": [
    "import pgmpy"
   ]
  },
  {
   "cell_type": "code",
   "execution_count": 4,
   "metadata": {},
   "outputs": [],
   "source": [
    "import pandas as pd\n",
    "import numpy as np"
   ]
  },
  {
   "cell_type": "code",
   "execution_count": 5,
   "metadata": {
    "scrolled": true
   },
   "outputs": [
    {
     "data": {
      "text/plain": "     Buying Maintenance  Doors People LugBoot Safety Acceptability\n0     vhigh       vhigh      2      2   small    low         unacc\n1     vhigh       vhigh      2      2   small    med         unacc\n2     vhigh       vhigh      2      2   small   high         unacc\n3     vhigh       vhigh      2      2     med    low         unacc\n4     vhigh       vhigh      2      2     med    med         unacc\n...     ...         ...    ...    ...     ...    ...           ...\n1723    low         low  5more   more     med    med          good\n1724    low         low  5more   more     med   high         vgood\n1725    low         low  5more   more     big    low         unacc\n1726    low         low  5more   more     big    med          good\n1727    low         low  5more   more     big   high         vgood\n\n[1728 rows x 7 columns]",
      "text/html": "<div>\n<style scoped>\n    .dataframe tbody tr th:only-of-type {\n        vertical-align: middle;\n    }\n\n    .dataframe tbody tr th {\n        vertical-align: top;\n    }\n\n    .dataframe thead th {\n        text-align: right;\n    }\n</style>\n<table border=\"1\" class=\"dataframe\">\n  <thead>\n    <tr style=\"text-align: right;\">\n      <th></th>\n      <th>Buying</th>\n      <th>Maintenance</th>\n      <th>Doors</th>\n      <th>People</th>\n      <th>LugBoot</th>\n      <th>Safety</th>\n      <th>Acceptability</th>\n    </tr>\n  </thead>\n  <tbody>\n    <tr>\n      <th>0</th>\n      <td>vhigh</td>\n      <td>vhigh</td>\n      <td>2</td>\n      <td>2</td>\n      <td>small</td>\n      <td>low</td>\n      <td>unacc</td>\n    </tr>\n    <tr>\n      <th>1</th>\n      <td>vhigh</td>\n      <td>vhigh</td>\n      <td>2</td>\n      <td>2</td>\n      <td>small</td>\n      <td>med</td>\n      <td>unacc</td>\n    </tr>\n    <tr>\n      <th>2</th>\n      <td>vhigh</td>\n      <td>vhigh</td>\n      <td>2</td>\n      <td>2</td>\n      <td>small</td>\n      <td>high</td>\n      <td>unacc</td>\n    </tr>\n    <tr>\n      <th>3</th>\n      <td>vhigh</td>\n      <td>vhigh</td>\n      <td>2</td>\n      <td>2</td>\n      <td>med</td>\n      <td>low</td>\n      <td>unacc</td>\n    </tr>\n    <tr>\n      <th>4</th>\n      <td>vhigh</td>\n      <td>vhigh</td>\n      <td>2</td>\n      <td>2</td>\n      <td>med</td>\n      <td>med</td>\n      <td>unacc</td>\n    </tr>\n    <tr>\n      <th>...</th>\n      <td>...</td>\n      <td>...</td>\n      <td>...</td>\n      <td>...</td>\n      <td>...</td>\n      <td>...</td>\n      <td>...</td>\n    </tr>\n    <tr>\n      <th>1723</th>\n      <td>low</td>\n      <td>low</td>\n      <td>5more</td>\n      <td>more</td>\n      <td>med</td>\n      <td>med</td>\n      <td>good</td>\n    </tr>\n    <tr>\n      <th>1724</th>\n      <td>low</td>\n      <td>low</td>\n      <td>5more</td>\n      <td>more</td>\n      <td>med</td>\n      <td>high</td>\n      <td>vgood</td>\n    </tr>\n    <tr>\n      <th>1725</th>\n      <td>low</td>\n      <td>low</td>\n      <td>5more</td>\n      <td>more</td>\n      <td>big</td>\n      <td>low</td>\n      <td>unacc</td>\n    </tr>\n    <tr>\n      <th>1726</th>\n      <td>low</td>\n      <td>low</td>\n      <td>5more</td>\n      <td>more</td>\n      <td>big</td>\n      <td>med</td>\n      <td>good</td>\n    </tr>\n    <tr>\n      <th>1727</th>\n      <td>low</td>\n      <td>low</td>\n      <td>5more</td>\n      <td>more</td>\n      <td>big</td>\n      <td>high</td>\n      <td>vgood</td>\n    </tr>\n  </tbody>\n</table>\n<p>1728 rows × 7 columns</p>\n</div>"
     },
     "execution_count": 5,
     "metadata": {},
     "output_type": "execute_result"
    }
   ],
   "source": [
    "cars_data = pd.read_csv('data/car.data', names=[\"Buying\", \"Maintenance\", \"Doors\", \"People\", \"LugBoot\", \"Safety\", \"Acceptability\"])\n",
    "cars_data"
   ]
  },
  {
   "cell_type": "code",
   "execution_count": 6,
   "metadata": {
    "scrolled": false
   },
   "outputs": [
    {
     "name": "stderr",
     "output_type": "stream",
     "text": [
      "  0%|          | 9/1000000 [00:00<15:14:36, 18.22it/s]\n"
     ]
    },
    {
     "name": "stdout",
     "output_type": "stream",
     "text": [
      "[('Buying', 'Maintenance'), ('Safety', 'People'), ('Safety', 'LugBoot'), ('Acceptability', 'Safety'), ('Acceptability', 'People'), ('Acceptability', 'Buying'), ('Acceptability', 'Maintenance'), ('Acceptability', 'LugBoot')]\n"
     ]
    }
   ],
   "source": [
    "from pgmpy.estimators import HillClimbSearch\n",
    "from pgmpy.estimators import BicScore\n",
    "\n",
    "hc = HillClimbSearch(cars_data, scoring_method=BicScore(cars_data))\n",
    "best_model = hc.estimate()\n",
    "print(best_model.edges())"
   ]
  },
  {
   "cell_type": "code",
   "execution_count": 7,
   "metadata": {
    "scrolled": false
   },
   "outputs": [
    {
     "name": "stdout",
     "output_type": "stream",
     "text": [
      "+----------------------+-----------+\n",
      "| Acceptability(acc)   | 0.222222  |\n",
      "+----------------------+-----------+\n",
      "| Acceptability(good)  | 0.0399306 |\n",
      "+----------------------+-----------+\n",
      "| Acceptability(unacc) | 0.700231  |\n",
      "+----------------------+-----------+\n",
      "| Acceptability(vgood) | 0.0376157 |\n",
      "+----------------------+-----------+\n",
      "+---------------+---------------------+---------------------+----------------------+----------------------+\n",
      "| Acceptability | Acceptability(acc)  | Acceptability(good) | Acceptability(unacc) | Acceptability(vgood) |\n",
      "+---------------+---------------------+---------------------+----------------------+----------------------+\n",
      "| Buying(high)  | 0.28125             | 0.0                 | 0.26776859504132233  | 0.0                  |\n",
      "+---------------+---------------------+---------------------+----------------------+----------------------+\n",
      "| Buying(low)   | 0.23177083333333334 | 0.6666666666666666  | 0.21322314049586777  | 0.6                  |\n",
      "+---------------+---------------------+---------------------+----------------------+----------------------+\n",
      "| Buying(med)   | 0.2994791666666667  | 0.3333333333333333  | 0.22148760330578512  | 0.4                  |\n",
      "+---------------+---------------------+---------------------+----------------------+----------------------+\n",
      "| Buying(vhigh) | 0.1875              | 0.0                 | 0.2975206611570248   | 0.0                  |\n",
      "+---------------+---------------------+---------------------+----------------------+----------------------+\n",
      "+----------------+--------------------+--------------------+---------------------+---------------------+---------------------+---------------------+----------------------+----------------------+----------------------+----------------------+----------------------+----------------------+\n",
      "| Acceptability  | Acceptability(acc) | Acceptability(acc) | Acceptability(acc)  | Acceptability(good) | Acceptability(good) | Acceptability(good) | Acceptability(unacc) | Acceptability(unacc) | Acceptability(unacc) | Acceptability(vgood) | Acceptability(vgood) | Acceptability(vgood) |\n",
      "+----------------+--------------------+--------------------+---------------------+---------------------+---------------------+---------------------+----------------------+----------------------+----------------------+----------------------+----------------------+----------------------+\n",
      "| Safety         | Safety(high)       | Safety(low)        | Safety(med)         | Safety(high)        | Safety(low)         | Safety(med)         | Safety(high)         | Safety(low)          | Safety(med)          | Safety(high)         | Safety(low)          | Safety(med)          |\n",
      "+----------------+--------------------+--------------------+---------------------+---------------------+---------------------+---------------------+----------------------+----------------------+----------------------+----------------------+----------------------+----------------------+\n",
      "| LugBoot(big)   | 0.3137254901960784 | 0.3333333333333333 | 0.4444444444444444  | 0.0                 | 0.3333333333333333  | 0.6153846153846154  | 0.3176895306859206   | 0.3333333333333333   | 0.24649859943977592  | 0.6153846153846154   | 0.3333333333333333   | 0.3333333333333333   |\n",
      "+----------------+--------------------+--------------------+---------------------+---------------------+---------------------+---------------------+----------------------+----------------------+----------------------+----------------------+----------------------+----------------------+\n",
      "| LugBoot(med)   | 0.3431372549019608 | 0.3333333333333333 | 0.3611111111111111  | 0.3                 | 0.3333333333333333  | 0.38461538461538464 | 0.3176895306859206   | 0.3333333333333333   | 0.3137254901960784   | 0.38461538461538464  | 0.3333333333333333   | 0.3333333333333333   |\n",
      "+----------------+--------------------+--------------------+---------------------+---------------------+---------------------+---------------------+----------------------+----------------------+----------------------+----------------------+----------------------+----------------------+\n",
      "| LugBoot(small) | 0.3431372549019608 | 0.3333333333333333 | 0.19444444444444445 | 0.7                 | 0.3333333333333333  | 0.0                 | 0.36462093862815886  | 0.3333333333333333   | 0.43977591036414565  | 0.0                  | 0.3333333333333333   | 0.3333333333333333   |\n",
      "+----------------+--------------------+--------------------+---------------------+---------------------+---------------------+---------------------+----------------------+----------------------+----------------------+----------------------+----------------------+----------------------+\n",
      "+--------------------+--------------------+---------------------+---------------------+--------------------+---------------------+---------------------+---------------------+---------------------+----------------------+----------------------+----------------------+----------------------+----------------------+----------------------+----------------------+----------------------+\n",
      "| Acceptability      | Acceptability(acc) | Acceptability(acc)  | Acceptability(acc)  | Acceptability(acc) | Acceptability(good) | Acceptability(good) | Acceptability(good) | Acceptability(good) | Acceptability(unacc) | Acceptability(unacc) | Acceptability(unacc) | Acceptability(unacc) | Acceptability(vgood) | Acceptability(vgood) | Acceptability(vgood) | Acceptability(vgood) |\n",
      "+--------------------+--------------------+---------------------+---------------------+--------------------+---------------------+---------------------+---------------------+---------------------+----------------------+----------------------+----------------------+----------------------+----------------------+----------------------+----------------------+----------------------+\n",
      "| Buying             | Buying(high)       | Buying(low)         | Buying(med)         | Buying(vhigh)      | Buying(high)        | Buying(low)         | Buying(med)         | Buying(vhigh)       | Buying(high)         | Buying(low)          | Buying(med)          | Buying(vhigh)        | Buying(high)         | Buying(low)          | Buying(med)          | Buying(vhigh)        |\n",
      "+--------------------+--------------------+---------------------+---------------------+--------------------+---------------------+---------------------+---------------------+---------------------+----------------------+----------------------+----------------------+----------------------+----------------------+----------------------+----------------------+----------------------+\n",
      "| Maintenance(high)  | 0.3333333333333333 | 0.3707865168539326  | 0.3130434782608696  | 0.0                | 0.25                | 0.0                 | 0.0                 | 0.25                | 0.2222222222222222   | 0.24031007751937986  | 0.26865671641791045  | 0.3                  | 0.25                 | 0.3333333333333333   | 0.0                  | 0.25                 |\n",
      "+--------------------+--------------------+---------------------+---------------------+--------------------+---------------------+---------------------+---------------------+---------------------+----------------------+----------------------+----------------------+----------------------+----------------------+----------------------+----------------------+----------------------+\n",
      "| Maintenance(low)   | 0.3333333333333333 | 0.11235955056179775 | 0.08695652173913043 | 0.5                | 0.25                | 0.5                 | 1.0                 | 0.25                | 0.2222222222222222   | 0.24031007751937986  | 0.23134328358208955  | 0.2                  | 0.25                 | 0.3333333333333333   | 0.5                  | 0.25                 |\n",
      "+--------------------+--------------------+---------------------+---------------------+--------------------+---------------------+---------------------+---------------------+---------------------+----------------------+----------------------+----------------------+----------------------+----------------------+----------------------+----------------------+----------------------+\n",
      "| Maintenance(med)   | 0.3333333333333333 | 0.11235955056179775 | 0.28695652173913044 | 0.5                | 0.25                | 0.5                 | 0.0                 | 0.25                | 0.2222222222222222   | 0.24031007751937986  | 0.23134328358208955  | 0.2                  | 0.25                 | 0.3333333333333333   | 0.5                  | 0.25                 |\n",
      "+--------------------+--------------------+---------------------+---------------------+--------------------+---------------------+---------------------+---------------------+---------------------+----------------------+----------------------+----------------------+----------------------+----------------------+----------------------+----------------------+----------------------+\n",
      "| Maintenance(vhigh) | 0.0                | 0.4044943820224719  | 0.3130434782608696  | 0.0                | 0.25                | 0.0                 | 0.0                 | 0.25                | 0.3333333333333333   | 0.27906976744186046  | 0.26865671641791045  | 0.3                  | 0.25                 | 0.0                  | 0.0                  | 0.25                 |\n",
      "+--------------------+--------------------+---------------------+---------------------+--------------------+---------------------+---------------------+---------------------+---------------------+----------------------+----------------------+----------------------+----------------------+----------------------+----------------------+----------------------+----------------------+\n",
      "+---------------+---------------------+--------------------+--------------------+---------------------+---------------------+---------------------+----------------------+----------------------+----------------------+----------------------+----------------------+----------------------+\n",
      "| Acceptability | Acceptability(acc)  | Acceptability(acc) | Acceptability(acc) | Acceptability(good) | Acceptability(good) | Acceptability(good) | Acceptability(unacc) | Acceptability(unacc) | Acceptability(unacc) | Acceptability(vgood) | Acceptability(vgood) | Acceptability(vgood) |\n",
      "+---------------+---------------------+--------------------+--------------------+---------------------+---------------------+---------------------+----------------------+----------------------+----------------------+----------------------+----------------------+----------------------+\n",
      "| Safety        | Safety(high)        | Safety(low)        | Safety(med)        | Safety(high)        | Safety(low)         | Safety(med)         | Safety(high)         | Safety(low)          | Safety(med)          | Safety(high)         | Safety(low)          | Safety(med)          |\n",
      "+---------------+---------------------+--------------------+--------------------+---------------------+---------------------+---------------------+----------------------+----------------------+----------------------+----------------------+----------------------+----------------------+\n",
      "| People(2)     | 0.0                 | 0.3333333333333333 | 0.0                | 0.0                 | 0.3333333333333333  | 0.0                 | 0.6931407942238267   | 0.3333333333333333   | 0.5378151260504201   | 0.0                  | 0.3333333333333333   | 0.3333333333333333   |\n",
      "+---------------+---------------------+--------------------+--------------------+---------------------+---------------------+---------------------+----------------------+----------------------+----------------------+----------------------+----------------------+----------------------+\n",
      "| People(4)     | 0.5294117647058824  | 0.3333333333333333 | 0.5                | 0.6                 | 0.3333333333333333  | 0.46153846153846156 | 0.1299638989169675   | 0.3333333333333333   | 0.23529411764705882  | 0.46153846153846156  | 0.3333333333333333   | 0.3333333333333333   |\n",
      "+---------------+---------------------+--------------------+--------------------+---------------------+---------------------+---------------------+----------------------+----------------------+----------------------+----------------------+----------------------+----------------------+\n",
      "| People(more)  | 0.47058823529411764 | 0.3333333333333333 | 0.5                | 0.4                 | 0.3333333333333333  | 0.5384615384615384  | 0.17689530685920576  | 0.3333333333333333   | 0.226890756302521    | 0.5384615384615384   | 0.3333333333333333   | 0.3333333333333333   |\n",
      "+---------------+---------------------+--------------------+--------------------+---------------------+---------------------+---------------------+----------------------+----------------------+----------------------+----------------------+----------------------+----------------------+\n",
      "+---------------+--------------------+---------------------+----------------------+----------------------+\n",
      "| Acceptability | Acceptability(acc) | Acceptability(good) | Acceptability(unacc) | Acceptability(vgood) |\n",
      "+---------------+--------------------+---------------------+----------------------+----------------------+\n",
      "| Safety(high)  | 0.53125            | 0.43478260869565216 | 0.22892561983471074  | 1.0                  |\n",
      "+---------------+--------------------+---------------------+----------------------+----------------------+\n",
      "| Safety(low)   | 0.0                | 0.0                 | 0.47603305785123967  | 0.0                  |\n",
      "+---------------+--------------------+---------------------+----------------------+----------------------+\n",
      "| Safety(med)   | 0.46875            | 0.5652173913043478  | 0.2950413223140496   | 0.0                  |\n",
      "+---------------+--------------------+---------------------+----------------------+----------------------+\n"
     ]
    }
   ],
   "source": [
    "from pgmpy.models import BayesianModel\n",
    "from pgmpy.estimators import MaximumLikelihoodEstimator\n",
    "\n",
    "bayesian_model = BayesianModel(best_model.edges())\n",
    "bayesian_model.fit(cars_data, estimator=MaximumLikelihoodEstimator)\n",
    "for cpd in bayesian_model.get_cpds():\n",
    "    print(cpd)"
   ]
  },
  {
   "cell_type": "code",
   "execution_count": 8,
   "metadata": {
    "scrolled": true
   },
   "outputs": [],
   "source": [
    "from pgmpy.inference import VariableElimination\n",
    "\n",
    "exact_inference = VariableElimination(bayesian_model)"
   ]
  },
  {
   "cell_type": "markdown",
   "metadata": {},
   "source": [
    "Now, it would be interesting to answer some questions:\n",
    "* Is maintenance harder for 2-seaters than for family cars?"
   ]
  },
  {
   "cell_type": "code",
   "execution_count": 9,
   "metadata": {},
   "outputs": [
    {
     "name": "stderr",
     "output_type": "stream",
     "text": [
      "Finding Elimination Order: :   0%|          | 0/4 [00:00<?, ?it/s]\n",
      "  0%|          | 0/4 [00:00<?, ?it/s]\u001B[A\n",
      "Eliminating: LugBoot:   0%|          | 0/4 [00:00<?, ?it/s]\u001B[A\n",
      "Eliminating: Buying:   0%|          | 0/4 [00:00<?, ?it/s] \u001B[A\n",
      "Eliminating: Safety:   0%|          | 0/4 [00:00<?, ?it/s]\u001B[A\n",
      "Eliminating: Acceptability: 100%|██████████| 4/4 [00:00<00:00, 460.98it/s]\n",
      "\n",
      "  0%|          | 0/4 [00:00<?, ?it/s]\u001B[A\n",
      "Finding Elimination Order: :   0%|          | 0/4 [00:00<?, ?it/s]\u001B[A\n",
      "\n",
      "  0%|          | 0/4 [00:00<?, ?it/s]\u001B[A\u001B[A\n",
      "\n",
      "Eliminating: LugBoot:   0%|          | 0/4 [00:00<?, ?it/s]\u001B[A\u001B[A\n",
      "\n",
      "Eliminating: Buying:   0%|          | 0/4 [00:00<?, ?it/s] \u001B[A\u001B[A\n",
      "\n",
      "Eliminating: Safety:   0%|          | 0/4 [00:00<?, ?it/s]\u001B[A\u001B[A\n",
      "\n",
      "Eliminating: Acceptability: 100%|██████████| 4/4 [00:00<00:00, 535.62it/s]\n"
     ]
    },
    {
     "name": "stdout",
     "output_type": "stream",
     "text": [
      "+--------------------+--------------------+\n",
      "| Maintenance        |   phi(Maintenance) |\n",
      "+====================+====================+\n",
      "| Maintenance(high)  |             0.2595 |\n",
      "+--------------------+--------------------+\n",
      "| Maintenance(low)   |             0.2215 |\n",
      "+--------------------+--------------------+\n",
      "| Maintenance(med)   |             0.2215 |\n",
      "+--------------------+--------------------+\n",
      "| Maintenance(vhigh) |             0.2975 |\n",
      "+--------------------+--------------------+\n",
      "+--------------------+--------------------+\n",
      "| Maintenance        |   phi(Maintenance) |\n",
      "+====================+====================+\n",
      "| Maintenance(high)  |             0.2450 |\n",
      "+--------------------+--------------------+\n",
      "| Maintenance(low)   |             0.2648 |\n",
      "+--------------------+--------------------+\n",
      "| Maintenance(med)   |             0.2646 |\n",
      "+--------------------+--------------------+\n",
      "| Maintenance(vhigh) |             0.2256 |\n",
      "+--------------------+--------------------+\n"
     ]
    }
   ],
   "source": [
    "print(exact_inference.query([\"Maintenance\"],{'People':\"2\"}))\n",
    "print(exact_inference.query([\"Maintenance\"],{'People':\"4\"}))\n",
    "\n"
   ]
  },
  {
   "cell_type": "markdown",
   "metadata": {},
   "source": [
    "It looks like it is, indeed. Then,\n",
    "* Are cars with high maintenance safer?"
   ]
  },
  {
   "cell_type": "code",
   "execution_count": 10,
   "metadata": {
    "scrolled": false
   },
   "outputs": [
    {
     "name": "stderr",
     "output_type": "stream",
     "text": [
      "\n",
      "\n",
      "  0%|          | 0/4 [00:00<?, ?it/s]\u001B[A\u001B[A\n",
      "\n",
      "Finding Elimination Order: :   0%|          | 0/4 [00:00<?, ?it/s]\u001B[A\u001B[A\n",
      "\n",
      "\n",
      "  0%|          | 0/4 [00:00<?, ?it/s]\u001B[A\u001B[A\u001B[A\n",
      "\n",
      "\n",
      "Eliminating: LugBoot:   0%|          | 0/4 [00:00<?, ?it/s]\u001B[A\u001B[A\u001B[A\n",
      "\n",
      "\n",
      "Finding Elimination Order: : 100%|██████████| 4/4 [00:00<00:00, 76.38it/s]\n",
      "Finding Elimination Order: : 100%|██████████| 4/4 [00:00<00:00, 125.32it/s]\n",
      "Finding Elimination Order: : 100%|██████████| 4/4 [00:00<00:00, 545.85it/s]\n",
      "\n",
      "\n",
      "\n",
      "Eliminating: Buying:   0%|          | 0/4 [00:00<?, ?it/s]\u001B[A\u001B[A\u001B[A\n",
      "\n",
      "\n",
      "Eliminating: Acceptability: 100%|██████████| 4/4 [00:00<00:00, 508.65it/s]\n"
     ]
    },
    {
     "name": "stdout",
     "output_type": "stream",
     "text": [
      "+--------------+---------------+\n",
      "| Safety       |   phi(Safety) |\n",
      "+==============+===============+\n",
      "| Safety(high) |        0.2793 |\n",
      "+--------------+---------------+\n",
      "| Safety(low)  |        0.3967 |\n",
      "+--------------+---------------+\n",
      "| Safety(med)  |        0.3240 |\n",
      "+--------------+---------------+\n"
     ]
    }
   ],
   "source": [
    "print(exact_inference.query([\"Safety\"],{'Maintenance':\"vhigh\"}))"
   ]
  },
  {
   "cell_type": "markdown",
   "metadata": {},
   "source": [
    "Looks like they're not. \n",
    "* Is the lugboot involved in safety?"
   ]
  },
  {
   "cell_type": "code",
   "execution_count": 11,
   "metadata": {},
   "outputs": [
    {
     "name": "stderr",
     "output_type": "stream",
     "text": [
      "Finding Elimination Order: :   0%|          | 0/4 [00:00<?, ?it/s]\n",
      "  0%|          | 0/4 [00:00<?, ?it/s]\u001B[A\n",
      "Eliminating: Maintenance:   0%|          | 0/4 [00:00<?, ?it/s]\u001B[A\n",
      "Eliminating: People:   0%|          | 0/4 [00:00<?, ?it/s]     \u001B[A\n",
      "Eliminating: Buying:   0%|          | 0/4 [00:00<?, ?it/s]\u001B[A\n",
      "Eliminating: Acceptability: 100%|██████████| 4/4 [00:00<00:00, 456.52it/s]\n"
     ]
    },
    {
     "name": "stdout",
     "output_type": "stream",
     "text": [
      "+----------------+----------------+\n",
      "| LugBoot        |   phi(LugBoot) |\n",
      "+================+================+\n",
      "| LugBoot(big)   |         0.3333 |\n",
      "+----------------+----------------+\n",
      "| LugBoot(med)   |         0.3333 |\n",
      "+----------------+----------------+\n",
      "| LugBoot(small) |         0.3333 |\n",
      "+----------------+----------------+\n"
     ]
    }
   ],
   "source": [
    "print(exact_inference.query([\"LugBoot\"],{'Safety':\"low\"}))"
   ]
  },
  {
   "cell_type": "markdown",
   "metadata": {},
   "source": [
    "## Approximate inference\n",
    "We'd now like to try and infer probabilities from samples, by extracting $n$ samples from the distribution and calculating the probability.\n",
    "According to **Hoeffding’s inequality**, we know that\n",
    "$$\n",
    "P(|s-p|>\\epsilon) \\le 2 e^{-2n\\epsilon^2}\n",
    "$$\n",
    "which we can use to get a desired number of samples to extract.\n",
    "We'll try two different techniques, **Rejection Sampling** and **Likelihood weighting**. \n",
    "The first estimates the probability by counting the samples that are consistent with the evidence, and it is a process similar to what we do in the real world.\n",
    "The latter, instead, only samples nonevidence variables, then weights them by the likelihood they accord the evidence."
   ]
  },
  {
   "cell_type": "code",
   "execution_count": 11,
   "outputs": [],
   "source": [],
   "metadata": {
    "collapsed": false,
    "pycharm": {
     "name": "#%%\n"
    }
   }
  },
  {
   "cell_type": "code",
   "execution_count": 16,
   "metadata": {
    "pycharm": {
     "name": "#%%\n"
    }
   },
   "outputs": [
    {
     "name": "stderr",
     "output_type": "stream",
     "text": [
      "Finding Elimination Order: : 100%|██████████| 3/3 [00:24<00:00,  8.01s/it]\n",
      "Finding Elimination Order: : 100%|██████████| 3/3 [00:23<00:00,  7.99s/it]\n",
      "Finding Elimination Order: :   0%|          | 0/3 [00:00<?, ?it/s]\n",
      "  0%|          | 0/3 [00:00<?, ?it/s]\u001B[A\n",
      "Eliminating: LugBoot:   0%|          | 0/3 [00:00<?, ?it/s]\u001B[A\n",
      "Eliminating: People:   0%|          | 0/3 [00:00<?, ?it/s] \u001B[A\n",
      "Eliminating: Buying: 100%|██████████| 3/3 [00:00<00:00, 522.50it/s]\n",
      "\n",
      "  0%|          | 0/3 [00:00<?, ?it/s]\u001B[A\n",
      "Finding Elimination Order: :   0%|          | 0/3 [00:00<?, ?it/s]\u001B[A\n",
      "\n",
      "  0%|          | 0/3 [00:00<?, ?it/s]\u001B[A\u001B[A\n",
      "\n",
      "Eliminating: LugBoot:   0%|          | 0/3 [00:00<?, ?it/s]\u001B[A\u001B[A\n",
      "\n",
      "Eliminating: People:   0%|          | 0/3 [00:00<?, ?it/s] \u001B[A\u001B[A\n",
      "\n",
      "Eliminating: Buying: 100%|██████████| 3/3 [00:00<00:00, 402.19it/s]\n",
      "\n",
      "\n",
      "  0%|          | 0/3 [00:00<?, ?it/s]\u001B[A\u001B[A\n",
      "\n",
      "Finding Elimination Order: :   0%|          | 0/3 [00:00<?, ?it/s]\u001B[A\u001B[A\n",
      "\n",
      "\n",
      "  0%|          | 0/3 [00:00<?, ?it/s]\u001B[A\u001B[A\u001B[A\n",
      "\n",
      "\n",
      "Eliminating: LugBoot:   0%|          | 0/3 [00:00<?, ?it/s]\u001B[A\u001B[A\u001B[A\n",
      "\n",
      "\n",
      "Eliminating: People:   0%|          | 0/3 [00:00<?, ?it/s] \u001B[A\u001B[A\u001B[A\n",
      "\n",
      "\n",
      "Eliminating: Buying: 100%|██████████| 3/3 [00:00<00:00, 524.31it/s]\n",
      "\n",
      "\n",
      "\n",
      "  0%|          | 0/3 [00:00<?, ?it/s]\u001B[A\u001B[A\u001B[A\n",
      "\n",
      "\n",
      "Finding Elimination Order: :   0%|          | 0/3 [00:00<?, ?it/s]\u001B[A\u001B[A\u001B[A\n",
      "\n",
      "\n",
      "\n",
      "  0%|          | 0/3 [00:00<?, ?it/s]\u001B[A\u001B[A\u001B[A\u001B[A\n",
      "\n",
      "\n",
      "\n",
      "Eliminating: LugBoot:   0%|          | 0/3 [00:00<?, ?it/s]\u001B[A\u001B[A\u001B[A\u001B[A\n",
      "\n",
      "\n",
      "\n",
      "Eliminating: People:   0%|          | 0/3 [00:00<?, ?it/s] \u001B[A\u001B[A\u001B[A\u001B[A\n",
      "\n",
      "\n",
      "\n",
      "Eliminating: Buying: 100%|██████████| 3/3 [00:00<00:00, 648.54it/s]\u001B[A\n"
     ]
    },
    {
     "name": "stdout",
     "output_type": "stream",
     "text": [
      "Experiment finished with achieved errors: {100: array([ 0.01611146, -0.04672223,  0.09315625, -0.06254549]), 250075: array([ 0.00150097,  0.00031586, -0.00228624,  0.00046942]), 500050: array([ 0.00100012,  0.00127742,  0.00091852, -0.00319606]), 750025: array([ 0.00060661, -0.0002194 , -0.00028043, -0.00010678])}\n"
     ]
    }
   ],
   "source": [
    "class SampleTester():\n",
    "    def __init__(self, bayesian_model):\n",
    "        self.bayesian_model = bayesian_model\n",
    "        self.sampler = BayesianModelSampling(bayesian_model)\n",
    "        self.exact_inference = VariableElimination(bayesian_model)\n",
    "    def test_sample_methods(self, evidence, query, sample_size_min = 100, sample_size_max=10**6, num_of_experiments=20):\n",
    "        test_range = range(sample_size_min, sample_size_max, int((sample_size_max-sample_size_min)/num_of_experiments))\n",
    "        errors = {}\n",
    "        for size in test_range:\n",
    "            error = self.process_lws(size, evidence, query)\n",
    "            errors[size]= error\n",
    "        print(f\"Experiment finished with achieved errors: {errors}\")\n",
    "    def process_lws(self, size, evidence, query):\n",
    "        likelihood_sample = self.sampler.likelihood_weighted_sample(evidence=evidence, size=size, return_type='recarray')\n",
    "        sample_probs = self.return_weighted_probs(likelihood_sample[query],likelihood_sample['_weight'])\n",
    "        exact_result = self.exact_inference.query([query], dict(evidence)).values\n",
    "        absolute_error = self.calculate_error(sample_probs, exact_result)\n",
    "        return absolute_error\n",
    "\n",
    "    def process_rs(self, size, evidence, query):\n",
    "        rejection_sample = self.sampler.rejection_sample(evidence=evidence, size=size, return_type='recarray')[query]\n",
    "        sample_probs = self.return_probs(rejection_sample)\n",
    "        exact_result = self.exact_inference.query([query], dict(evidence)).values\n",
    "        absolute_error = self.calculate_error(sample_probs, exact_result)\n",
    "        return absolute_error\n",
    "    def calculate_error(self, sample_probs, exact_probs):\n",
    "        absolute_error = np.fromiter(sample_probs.values(), dtype=float) - np.array(exact_probs)\n",
    "        return absolute_error\n",
    "    def return_probs(self, samples):\n",
    "        unique, counts = np.unique(samples, return_counts=True) # Get the unique values and their counts\n",
    "        counts = (counts/len(samples))# Divide the counts by the total number, getting a probability from 0 to 1\n",
    "        return dict(zip(unique, counts)) # Zip the value and its probability in a dict\n",
    "    def return_weighted_probs(self, samples, weights):\n",
    "        unique = np.unique(samples)\n",
    "        counts = np.zeros(len(np.unique(samples))) # We fill a zero array for the weights sum, the  we'll divide it by the sum of weights\n",
    "        iterator = np.nditer(samples, flags=['f_index'])\n",
    "        for value in iterator:\n",
    "            counts[value] += weights[iterator.index]\n",
    "        counts = (counts/np.sum(weights))\n",
    "        return dict(zip(unique, counts)) # Zip the value and its probability in a dict\n",
    "\n",
    "from pgmpy.sampling import BayesianModelSampling\n",
    "from pgmpy.factors.discrete import State\n",
    "\n",
    "\n",
    "evidence = [State('Safety', 'high'),State('Maintenance', 'low')]\n",
    "\n",
    "st = SampleTester(bayesian_model)\n",
    "st.test_sample_methods(evidence, \"Acceptability\", num_of_experiments=4)"
   ]
  }
 ],
 "metadata": {
  "kernelspec": {
   "display_name": "bncars",
   "language": "python",
   "name": "bncars"
  },
  "language_info": {
   "codemirror_mode": {
    "name": "ipython",
    "version": 3
   },
   "file_extension": ".py",
   "mimetype": "text/x-python",
   "name": "python",
   "nbconvert_exporter": "python",
   "pygments_lexer": "ipython3",
   "version": "3.8.8"
  }
 },
 "nbformat": 4,
 "nbformat_minor": 4
}